{
 "cells": [
  {
   "cell_type": "code",
   "execution_count": 38,
   "metadata": {},
   "outputs": [
    {
     "name": "stdout",
     "output_type": "stream",
     "text": [
      "6\n"
     ]
    }
   ],
   "source": [
    "x = 3\n",
    "y = 3\n",
    "z = x + y\n",
    "print(z)\n",
    "\n"
   ]
  },
  {
   "cell_type": "code",
   "execution_count": 39,
   "metadata": {},
   "outputs": [
    {
     "name": "stdout",
     "output_type": "stream",
     "text": [
      "4\n"
     ]
    }
   ],
   "source": [
    "i = 1\n",
    "j = 3\n",
    "print(i+j)"
   ]
  },
  {
   "cell_type": "code",
   "execution_count": 40,
   "metadata": {},
   "outputs": [
    {
     "name": "stdout",
     "output_type": "stream",
     "text": [
      "5\n"
     ]
    }
   ],
   "source": [
    "x = 5\n",
    "print(x)"
   ]
  },
  {
   "cell_type": "code",
   "execution_count": 41,
   "metadata": {},
   "outputs": [
    {
     "name": "stdout",
     "output_type": "stream",
     "text": [
      "6\n"
     ]
    }
   ],
   "source": [
    "x = x + 1\n",
    "print(x)"
   ]
  },
  {
   "cell_type": "code",
   "execution_count": 42,
   "metadata": {},
   "outputs": [
    {
     "name": "stdout",
     "output_type": "stream",
     "text": [
      "11\n"
     ]
    }
   ],
   "source": [
    "num_1 = 1\n",
    "num_2 = 10\n",
    "sum_1_2 = num_1 + num_2\n",
    "print(sum_1_2)\n",
    "\n"
   ]
  },
  {
   "cell_type": "code",
   "execution_count": 43,
   "metadata": {},
   "outputs": [
    {
     "name": "stdout",
     "output_type": "stream",
     "text": [
      "15.0\n",
      "<class 'float'>\n"
     ]
    }
   ],
   "source": [
    "x = 10.0\n",
    "y = 5\n",
    "z = x + y\n",
    "print(z)\n",
    "print(type(z))"
   ]
  },
  {
   "cell_type": "code",
   "execution_count": 52,
   "metadata": {},
   "outputs": [
    {
     "name": "stdout",
     "output_type": "stream",
     "text": [
      "4\n",
      "12.56\n"
     ]
    }
   ],
   "source": [
    "x = 2\n",
    "y = 2\n",
    "z = x * y\n",
    "print(z)\n",
    "\n",
    "\n",
    "r = 2\n",
    "pi = 3.14\n",
    "area = pi * r**2\n",
    "print(area)\n"
   ]
  },
  {
   "cell_type": "code",
   "execution_count": 64,
   "metadata": {},
   "outputs": [
    {
     "name": "stdout",
     "output_type": "stream",
     "text": [
      "My name is Mehtab and I am the analyst\n",
      "My name is Mehtab and I am the analyst.\n"
     ]
    }
   ],
   "source": [
    "name = \"Mehtab\"\n",
    "job = \"analyst\"\n",
    "longer_string = \"My name is \" + name +\" and I am the \"+ job\n",
    "print(longer_string)\n",
    "\n",
    "phrase = f\"My name is {name} and I am the {job}.\"\n",
    "print(phrase)"
   ]
  },
  {
   "cell_type": "code",
   "execution_count": 66,
   "metadata": {},
   "outputs": [
    {
     "name": "stdout",
     "output_type": "stream",
     "text": [
      "My name is Mehtab Jabbar and I work as a Business Intelligence Analyst\n"
     ]
    }
   ],
   "source": [
    "name = \"Mehtab Jabbar\"\n",
    "job_title = \"Business Intelligence Analyst\"\n",
    "combined_setence = f\"My name is {name} and I work as a {job_title}\"\n",
    "print(combined_setence)"
   ]
  },
  {
   "cell_type": "code",
   "execution_count": 68,
   "metadata": {},
   "outputs": [
    {
     "name": "stdout",
     "output_type": "stream",
     "text": [
      "The rate of cin plans per 10k children is 129.03225806451613\n"
     ]
    }
   ],
   "source": [
    "cin_plan = 200\n",
    "total_pop = 15500\n",
    "rp10k = (cin_plan / total_pop) * 10000\n",
    "explanation = f\"The rate of cin plans per 10k children is {rp10k}\"\n",
    "print(explanation)"
   ]
  },
  {
   "cell_type": "code",
   "execution_count": 72,
   "metadata": {},
   "outputs": [
    {
     "name": "stdout",
     "output_type": "stream",
     "text": [
      "esarhp siht esrever\n"
     ]
    }
   ],
   "source": [
    "phrase = \"reverse this phrase\"\n",
    "reversed = phrase[-1::-1]\n",
    "print(reversed)"
   ]
  },
  {
   "cell_type": "code",
   "execution_count": 76,
   "metadata": {},
   "outputs": [
    {
     "name": "stdout",
     "output_type": "stream",
     "text": [
      "dog\n",
      "cat\n",
      "racoon\n"
     ]
    }
   ],
   "source": [
    "slice_this_phrase = \"dog cat racoon\"\n",
    "animal_1 = slice_this_phrase[0:3]\n",
    "print(animal_1)\n",
    "\n",
    "animal_2 = slice_this_phrase[4:7]\n",
    "print(animal_2)\n",
    "\n",
    "animal_3 = slice_this_phrase[8:14]\n",
    "print(animal_3)"
   ]
  },
  {
   "cell_type": "code",
   "execution_count": 15,
   "metadata": {},
   "outputs": [
    {
     "name": "stdout",
     "output_type": "stream",
     "text": [
      "[1, 2, 3, [10, 11], 3, 4, 5]\n",
      "3\n",
      "[2, [10, 11], 4]\n",
      "[0, 1, 2, 3, 4, 5, 6, 7, 8, 9, 10]\n"
     ]
    }
   ],
   "source": [
    "num_1 = 1\n",
    "num_2 = 2.0\n",
    "name = \"Mehtab\"\n",
    "list_1 = [1, 2, 3]\n",
    "# print(type(list_1))\n",
    "\n",
    "list_1.append([10, 11])\n",
    "list_1.extend([3, 4, 5])\n",
    "print(list_1)\n",
    "\n",
    "\n",
    "list_index_individual = list_1[4]\n",
    "print(list_index_individual)\n",
    "\n",
    "list_slice = list_1[1::2]\n",
    "print(list_slice)\n",
    "\n",
    "\n",
    "list_2 = list(range(11))\n",
    "print(list_2)\n"
   ]
  },
  {
   "cell_type": "code",
   "execution_count": 17,
   "metadata": {},
   "outputs": [
    {
     "name": "stdout",
     "output_type": "stream",
     "text": [
      "2.0\n"
     ]
    },
    {
     "data": {
      "text/plain": [
       "str"
      ]
     },
     "execution_count": 17,
     "metadata": {},
     "output_type": "execute_result"
    }
   ],
   "source": [
    "num_2 = str(num_2)\n",
    "print(num_2)\n"
   ]
  },
  {
   "cell_type": "code",
   "execution_count": 20,
   "metadata": {},
   "outputs": [
    {
     "name": "stdout",
     "output_type": "stream",
     "text": [
      "[2, 3, 4, 5, 1, 6]\n",
      "[6, 5, 4, 3, 2, 1]\n"
     ]
    }
   ],
   "source": [
    "numbers_list = [2,3,4,5,1,6]\n",
    "print(numbers_list)\n",
    "\n",
    "numbers_list.sort(reverse=True)\n",
    "print(numbers_list)"
   ]
  },
  {
   "cell_type": "code",
   "execution_count": 21,
   "metadata": {},
   "outputs": [
    {
     "name": "stdout",
     "output_type": "stream",
     "text": [
      "<class 'dict'>\n"
     ]
    }
   ],
   "source": [
    "dict_1 = {}\n",
    "print(type(dict_1))\n"
   ]
  },
  {
   "cell_type": "code",
   "execution_count": 32,
   "metadata": {},
   "outputs": [
    {
     "name": "stdout",
     "output_type": "stream",
     "text": [
      "{'Will': 'Teal', 'Andy': ['Purple', 'Blue'], 'Annie': 14, 'Naiomi': {'Monday': 'Red', 'Sunday': 'Orange', 'Others': 'Black'}}\n"
     ]
    }
   ],
   "source": [
    "mehtab = {'Name': 'Mehtab',\n",
    "        'Job title': 'Data Analyst',\n",
    "        'Hours': 'Too many',\n",
    "        'Salary': 10}\n",
    "\n",
    "colours_dict = {'Will':'Teal',\n",
    "                'Andy': ['Purple', 'Blue'],\n",
    "                'Annie': 14,\n",
    "                'Naiomi':{'Monday':'Red',\n",
    "                           'Sunday':'Orange',\n",
    "                           'Others':'Black'}}\n",
    "\n",
    "print(colours_dict)\n"
   ]
  },
  {
   "cell_type": "code",
   "execution_count": 41,
   "metadata": {},
   "outputs": [
    {
     "name": "stdout",
     "output_type": "stream",
     "text": [
      "{'KFC': ['Zinger Burger', 'Wings', 'Chips'], 'Wingstop': 'Chicken Wings', 'Local Hotel': {'Weekdays': 'Gastro pub food', 'Weekends': 'high tea'}}\n",
      "['Zinger Burger', 'Wings', 'Chips']\n",
      "{'KFC': ['Zinger Burger', 'Wings', 'Chips'], 'Wingstop': 'Chicken Wings', 'Local Hotel': {'Weekdays': 'Gastro pub food', 'Weekends': 'high tea'}, 'Kebab Shop': 'Kebabs'}\n"
     ]
    }
   ],
   "source": [
    "restaurants = {'KFC': ['Zinger Burger', 'Wings', 'Chips'],\n",
    "             'Wingstop': 'Chicken Wings',\n",
    "             'Local Hotel': {'Weekdays': 'Gastro pub food',\n",
    "                             'Weekends' : 'high tea'}}\n",
    "\n",
    "print(restaurants)\n",
    "\n",
    "kfc_food = restaurants['KFC']\n",
    "print(kfc_food)\n",
    "\n",
    "restaurants['Kebab Shop'] = 'Kebabs'\n",
    "print(restaurants)"
   ]
  },
  {
   "cell_type": "code",
   "execution_count": 50,
   "metadata": {},
   "outputs": [
    {
     "name": "stdout",
     "output_type": "stream",
     "text": [
      "dict_keys(['KFC', 'Wingstop', 'Local Hotel', 'Kebab Shop', 'Corner Shop'])\n",
      "dict_values([['Zinger Burger', 'Wings', 'Chips'], 'Chicken Wings', {'Weekdays': 'Gastro pub food', 'Weekends': 'high tea'}, 'Kebabs', 'Crisps'])\n",
      "dict_items([('KFC', ['Zinger Burger', 'Wings', 'Chips']), ('Wingstop', 'Chicken Wings'), ('Local Hotel', {'Weekdays': 'Gastro pub food', 'Weekends': 'high tea'}), ('Kebab Shop', 'Kebabs'), ('Corner Shop', 'Crisps')])\n",
      "False\n",
      "True\n",
      "{'KFC': ['Zinger Burger', 'Wings', 'Chips'], 'Wingstop': 'Chicken Wings', 'Local Hotel': {'Weekdays': 'Gastro pub food', 'Weekends': 'high tea'}, 'Kebab Shop': 'Kebabs', 'Corner Shop': 'Crisps'}\n",
      "True\n"
     ]
    }
   ],
   "source": [
    "print(restaurants.keys())\n",
    "print(restaurants.values())\n",
    "\n",
    "print(restaurants.items())\n",
    "\n",
    "print('Curry house' in restaurants)\n",
    "print('Kebab Shop' in restaurants)\n",
    "\n",
    "restaurants['Corner Shop'] = 'Crisps'\n",
    "print(restaurants)\n",
    "print('Corner Shop' in restaurants)"
   ]
  },
  {
   "cell_type": "code",
   "execution_count": 51,
   "metadata": {},
   "outputs": [],
   "source": [
    "import pandas as pd\n",
    "\n",
    "filepath = 'https://raw.githubusercontent.com/data-to-insight/csc-validator-be-903/main/tests/fake_data/header.csv'\n",
    "\n",
    "header_fake = pd.read_csv(filepath)"
   ]
  },
  {
   "cell_type": "code",
   "execution_count": 56,
   "metadata": {},
   "outputs": [
    {
     "name": "stdout",
     "output_type": "stream",
     "text": [
      "<class 'pandas.core.frame.DataFrame'>\n",
      "RangeIndex: 2675 entries, 0 to 2674\n",
      "Data columns (total 7 columns):\n",
      " #   Column  Non-Null Count  Dtype  \n",
      "---  ------  --------------  -----  \n",
      " 0   CHILD   2675 non-null   int64  \n",
      " 1   SEX     2675 non-null   int64  \n",
      " 2   DOB     2675 non-null   object \n",
      " 3   ETHNIC  2675 non-null   object \n",
      " 4   UPN     2675 non-null   object \n",
      " 5   MOTHER  1 non-null      float64\n",
      " 6   MC_DOB  1 non-null      object \n",
      "dtypes: float64(1), int64(2), object(4)\n",
      "memory usage: 146.4+ KB\n",
      "None\n"
     ]
    }
   ],
   "source": [
    "#print(header_fake.head(10))\n",
    "#print(header_fake.tail(10))\n",
    "print(header_fake.info())"
   ]
  },
  {
   "cell_type": "code",
   "execution_count": 62,
   "metadata": {},
   "outputs": [
    {
     "name": "stdout",
     "output_type": "stream",
     "text": [
      "   col1 col2 col3\n",
      "0     1    A  foo\n",
      "1     2    B  bar\n",
      "2     3    C  baz\n",
      "   column1 column2 column3\n",
      "0        1       A     foo\n",
      "1        2       B     bar\n",
      "2        3       C     baz\n"
     ]
    }
   ],
   "source": [
    "# dict of lists\n",
    "d_1 = {'col1':[1, 2, 3],\n",
    "       'col2': ['A', 'B', 'C'],\n",
    "       'col3': ['foo', 'bar', 'baz']}\n",
    "\n",
    "df_1 = pd.DataFrame(d_1)\n",
    "print(df_1)\n",
    "\n",
    "\n",
    "# list of dicts\n",
    "df_2 = pd.DataFrame([\n",
    "    {'column1':1,\n",
    "     'column2':'A',\n",
    "     'column3': 'foo'},\n",
    "    {'column1':2,\n",
    "     'column2':'B',\n",
    "     'column3': 'bar'},\n",
    "    {'column1':3,\n",
    "     'column2':'C',\n",
    "     'column3': 'baz'}\n",
    "    \n",
    "    ])\n",
    "print(df_2)"
   ]
  },
  {
   "cell_type": "code",
   "execution_count": 71,
   "metadata": {},
   "outputs": [
    {
     "name": "stdout",
     "output_type": "stream",
     "text": [
      "     Name  Salary     Job Title\n",
      "0  Mehtab       3  Data Analyst\n",
      "1    Will       8       Teacher\n",
      "2    John       5        no job\n",
      "<class 'pandas.core.frame.DataFrame'>\n",
      "RangeIndex: 3 entries, 0 to 2\n",
      "Data columns (total 3 columns):\n",
      " #   Column     Non-Null Count  Dtype \n",
      "---  ------     --------------  ----- \n",
      " 0   Name       3 non-null      object\n",
      " 1   Salary     3 non-null      int64 \n",
      " 2   Job Title  3 non-null      object\n",
      "dtypes: int64(1), object(2)\n",
      "memory usage: 200.0+ bytes\n",
      "None\n",
      "     Name  Salary     Job Title\n",
      "0  Mehtab       3  Data Analyst\n",
      "0    3\n",
      "1    8\n",
      "2    5\n",
      "Name: Salary, dtype: int64\n",
      "     Name     Job Title\n",
      "0  Mehtab  Data Analyst\n",
      "1    Will       Teacher\n",
      "2    John        no job\n"
     ]
    }
   ],
   "source": [
    "employee_data = pd.DataFrame([\n",
    "    {'Name':'Mehtab',\n",
    "     'Salary':3,\n",
    "     'Job Title': 'Data Analyst'},\n",
    "    {'Name':'Will',\n",
    "     'Salary':8,\n",
    "     'Job Title': 'Teacher'},\n",
    "    {'Name':'John',\n",
    "     'Salary':5,\n",
    "     'Job Title': 'no job'}\n",
    "     ])\n",
    "\n",
    "print(employee_data)\n",
    "\n",
    "print(employee_data.info())\n",
    "print(employee_data.head(1))\n",
    "\n",
    "print(employee_data['Salary'])\n",
    "print(employee_data[['Name', 'Job Title']])"
   ]
  },
  {
   "cell_type": "code",
   "execution_count": 73,
   "metadata": {},
   "outputs": [
    {
     "name": "stdout",
     "output_type": "stream",
     "text": [
      "int64\n",
      "The mean salary is 5.333333333333333.\n",
      "The total of salaries is 16.\n",
      "The max and min salaries respectively are 8, 3.\n"
     ]
    }
   ],
   "source": [
    "employee_data['Salary'] = employee_data['Salary'].astype('int')\n",
    "print(employee_data['Salary'].dtypes)\n",
    "\n",
    "mean_salary = employee_data['Salary'].mean()\n",
    "sum_salary = employee_data['Salary'].sum()\n",
    "max_salary = employee_data['Salary'].max()\n",
    "min_salary = employee_data['Salary'].min()\n",
    "\n",
    "print(f'The mean salary is {mean_salary}.')\n",
    "print(f'The total of salaries is {sum_salary}.')\n",
    "print(f'The max and min salaries respectively are {max_salary}, {min_salary}.')"
   ]
  }
 ],
 "metadata": {
  "kernelspec": {
   "display_name": "Python 3",
   "language": "python",
   "name": "python3"
  },
  "language_info": {
   "codemirror_mode": {
    "name": "ipython",
    "version": 3
   },
   "file_extension": ".py",
   "mimetype": "text/x-python",
   "name": "python",
   "nbconvert_exporter": "python",
   "pygments_lexer": "ipython3",
   "version": "3.10.13"
  }
 },
 "nbformat": 4,
 "nbformat_minor": 2
}
